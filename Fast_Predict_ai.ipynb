{
  "nbformat": 4,
  "nbformat_minor": 0,
  "metadata": {
    "colab": {
      "name": "Fast-Predict.ai",
      "version": "0.3.2",
      "provenance": [],
      "include_colab_link": true
    },
    "kernelspec": {
      "name": "python3",
      "display_name": "Python 3"
    },
    "accelerator": "GPU"
  },
  "cells": [
    {
      "cell_type": "markdown",
      "metadata": {
        "id": "view-in-github",
        "colab_type": "text"
      },
      "source": [
        "<a href=\"https://colab.research.google.com/github/marvin-hansen/fastai/blob/master/Fast_Predict_ai.ipynb\" target=\"_parent\"><img src=\"https://colab.research.google.com/assets/colab-badge.svg\" alt=\"Open In Colab\"/></a>"
      ]
    },
    {
      "metadata": {
        "id": "hyTJpkZTknaI",
        "colab_type": "text"
      },
      "cell_type": "markdown",
      "source": [
        "# Stock price prediction with fast.ai\n",
        "\n",
        "\n",
        "\n"
      ]
    },
    {
      "metadata": {
        "id": "Jkq5jtcvLHsq",
        "colab_type": "text"
      },
      "cell_type": "markdown",
      "source": [
        "## Mount GDrive"
      ]
    },
    {
      "metadata": {
        "id": "c-cZPqSGQVUY",
        "colab_type": "code",
        "outputId": "c2be9304-2479-42e5-e1eb-67bca1c8d145",
        "colab": {
          "base_uri": "https://localhost:8080/",
          "height": 170
        }
      },
      "cell_type": "code",
      "source": [
        "from google.colab import drive\n",
        "drive.mount('/content/gdrive', force_remount=True)\n",
        "root_dir = \"/content/gdrive/My Drive/\"\n",
        "base_dir = root_dir + 'fastai-v3/'\n",
        "#!cd /content/gdrive/MyDrive/fastai-v3/\n",
        "!ls"
      ],
      "execution_count": 0,
      "outputs": [
        {
          "output_type": "stream",
          "text": [
            "Mounted at /content/gdrive\n",
            "aclocal.m4\tconfig.status  libtool\t    ta-lib\n",
            "AMZN.csv\tconfig.sub     ltmain.sh    ta-lib-0.4.0-src.tar.gz\n",
            "autogen.sh\tconfigure      Makefile     ta-lib-config\n",
            "autom4te.cache\tconfigure.in   Makefile.am  ta-lib-config.in\n",
            "bin\t\tdepcomp        Makefile.in  ta-lib.dpkg\n",
            "CHANGELOG.TXT\tHISTORY.TXT    missing\t    ta-lib.dpkg.in\n",
            "config.guess\tinclude        models\t    ta-lib.spec\n",
            "config.log\tinstall-sh     src\t    ta-lib.spec.in\n"
          ],
          "name": "stdout"
        }
      ]
    },
    {
      "metadata": {
        "id": "QMfsFdovmreG",
        "colab_type": "text"
      },
      "cell_type": "markdown",
      "source": [
        "## Constants & Flags"
      ]
    },
    {
      "metadata": {
        "id": "ZIo-eDWrkYBc",
        "colab_type": "code",
        "colab": {}
      },
      "cell_type": "code",
      "source": [
        "%reload_ext autoreload\n",
        "%autoreload 2\n",
        "%matplotlib inline"
      ],
      "execution_count": 0,
      "outputs": []
    },
    {
      "metadata": {
        "id": "2_nJKI6nkqEO",
        "colab_type": "code",
        "colab": {}
      },
      "cell_type": "code",
      "source": [
        "#batch size \n",
        "\n",
        "bs = 64\n",
        "# bs = 32 \n",
        "# bs = 16   # uncomment this line if you run out of memory even after clicking Kernel->Restart"
      ],
      "execution_count": 0,
      "outputs": []
    },
    {
      "metadata": {
        "id": "G8YfeI5K_7d8",
        "colab_type": "text"
      },
      "cell_type": "markdown",
      "source": [
        "## Install TA/Lib for Technical Analysis"
      ]
    },
    {
      "metadata": {
        "id": "vne8ipPlACus",
        "colab_type": "code",
        "colab": {}
      },
      "cell_type": "code",
      "source": [
        "# install TA LIB for Technical Analysis\n",
        "# http://ta-lib.org/hdr_dw.html\n",
        "# https://github.com/mrjbq7/ta-lib\n",
        "# https://stackoverflow.com/questions/49648391/how-to-install-ta-lib-in-google-colab\n",
        "!mkdir ta-lib \n",
        "!cd ta-lib\n",
        "!wget http://prdownloads.sourceforge.net/ta-lib/ta-lib-0.4.0-src.tar.gz\n",
        "!tar -xzvf ta-lib-0.4.0-src.tar.gz\n",
        "!./configure --prefix=/usr\n",
        "!make\n",
        "!make install\n",
        "!pip install Ta-Lib\n"
      ],
      "execution_count": 0,
      "outputs": []
    },
    {
      "metadata": {
        "id": "a9ZyTvLnmNB9",
        "colab_type": "text"
      },
      "cell_type": "markdown",
      "source": [
        "## Imports\n"
      ]
    },
    {
      "metadata": {
        "id": "YVfM_vuVl61s",
        "colab_type": "code",
        "outputId": "64e9f934-d845-41ec-dfaa-f6114063c94c",
        "colab": {
          "base_uri": "https://localhost:8080/",
          "height": 34
        }
      },
      "cell_type": "code",
      "source": [
        "import fastai\n",
        "from fastai import *\n",
        "from fastai.basics import *\n",
        "from fastai.tabular import *\n",
        "from fastai.metrics import error_rate\n",
        "\n",
        "import matplotlib.pyplot as plt\n",
        "from PIL import Image\n",
        "\n",
        "print(\"FastAI Version: \" + str(fastai.__version__))\n"
      ],
      "execution_count": 0,
      "outputs": [
        {
          "output_type": "stream",
          "text": [
            "FastAI Version: 1.0.46\n"
          ],
          "name": "stdout"
        }
      ]
    },
    {
      "metadata": {
        "id": "Vf_31oMZl7gI",
        "colab_type": "code",
        "outputId": "6fbda38d-03ee-4e3f-83c0-36c3f84ef246",
        "colab": {
          "base_uri": "https://localhost:8080/",
          "height": 34
        }
      },
      "cell_type": "code",
      "source": [
        "import torch\n",
        "\n",
        "print(\"PyTorch Version: \" + str(torch.__version__))"
      ],
      "execution_count": 0,
      "outputs": [
        {
          "output_type": "stream",
          "text": [
            "PyTorch Version: 1.0.1.post2\n"
          ],
          "name": "stdout"
        }
      ]
    },
    {
      "metadata": {
        "id": "zOWORkXtBIvK",
        "colab_type": "code",
        "outputId": "e37edca2-d357-43dd-bf73-95f64eab4bea",
        "colab": {
          "base_uri": "https://localhost:8080/",
          "height": 34
        }
      },
      "cell_type": "code",
      "source": [
        "import talib\n",
        "\n",
        "print(\"TA Lib Version: \" + str(talib.__version__))"
      ],
      "execution_count": 0,
      "outputs": [
        {
          "output_type": "stream",
          "text": [
            "TA Lib Version: 0.4.17\n"
          ],
          "name": "stdout"
        }
      ]
    },
    {
      "metadata": {
        "id": "RLvRy1G9mWdQ",
        "colab_type": "text"
      },
      "cell_type": "markdown",
      "source": [
        "## Verify GPU *acceleration*"
      ]
    },
    {
      "metadata": {
        "id": "Z5S3z9YkmFqu",
        "colab_type": "code",
        "outputId": "cb4c34b3-dbc7-4401-fadf-02750f4c9e1e",
        "colab": {
          "base_uri": "https://localhost:8080/",
          "height": 153
        }
      },
      "cell_type": "code",
      "source": [
        "torch.cuda.current_device()\n",
        "\n",
        "print(\"Cude available: \" + str(torch.cuda.is_available()))\n",
        "print(\"Cude enabled:\" + str(torch.backends.cudnn.enabled))\n",
        "\n",
        "#https://stackoverflow.com/questions/48152674/how-to-check-if-pytorch-is-using-the-gpu\n",
        "# setting device on GPU if available, else CPU\n",
        "device = torch.device('cuda' if torch.cuda.is_available() else 'cpu')\n",
        "print('Using device:', device)\n",
        "print()\n",
        "\n",
        "#Additional Info when using cuda\n",
        "if device.type == 'cuda':\n",
        "    print(\"GPU used: \" + torch.cuda.get_device_name(0))\n",
        "    print('Memory Usage:')\n",
        "    print('Allocated:', round(torch.cuda.memory_allocated(0)/1024**3,1), 'GB')\n",
        "    print('Cached:   ', round(torch.cuda.memory_cached(0)/1024**3,1), 'GB')"
      ],
      "execution_count": 0,
      "outputs": [
        {
          "output_type": "stream",
          "text": [
            "Cude available: True\n",
            "Cude enabled:True\n",
            "Using device: cuda\n",
            "\n",
            "GPU used: Tesla K80\n",
            "Memory Usage:\n",
            "Allocated: 0.0 GB\n",
            "Cached:    0.0 GB\n"
          ],
          "name": "stdout"
        }
      ]
    },
    {
      "metadata": {
        "id": "-zk9StX8Bqt_",
        "colab_type": "text"
      },
      "cell_type": "markdown",
      "source": [
        "# Load Data\n",
        "\n",
        "\n",
        "\n",
        "1. Load CSV\n",
        "2. Add Technical indicators\n",
        "3. Create TabList"
      ]
    },
    {
      "metadata": {
        "id": "l5imd8MBSBD7",
        "colab_type": "code",
        "outputId": "5743f701-1cdf-49a5-e210-e34f0ca02fc7",
        "colab": {
          "base_uri": "https://localhost:8080/",
          "height": 34
        }
      },
      "cell_type": "code",
      "source": [
        "# Set path\n",
        "path = base_dir\n",
        "path"
      ],
      "execution_count": 0,
      "outputs": [
        {
          "output_type": "execute_result",
          "data": {
            "text/plain": [
              "'/content/gdrive/My Drive/fastai-v3/'"
            ]
          },
          "metadata": {
            "tags": []
          },
          "execution_count": 45
        }
      ]
    },
    {
      "metadata": {
        "id": "7Vj1lHazCZBA",
        "colab_type": "code",
        "colab": {}
      },
      "cell_type": "code",
      "source": [
        "!wget https://raw.githubusercontent.com/marvin-hansen/fastai/master/AMZN.csv"
      ],
      "execution_count": 0,
      "outputs": []
    },
    {
      "metadata": {
        "id": "8qGc-r5BCpA4",
        "colab_type": "code",
        "outputId": "3fa11b84-d8e5-4755-9ccb-9a041698114e",
        "colab": {
          "base_uri": "https://localhost:8080/",
          "height": 80
        }
      },
      "cell_type": "code",
      "source": [
        "file_name=\"AMZN.csv\"\n",
        "df = pd.read_csv(file_name)\n",
        "df.tail(1)\n"
      ],
      "execution_count": 52,
      "outputs": [
        {
          "output_type": "execute_result",
          "data": {
            "text/html": [
              "<div>\n",
              "<style scoped>\n",
              "    .dataframe tbody tr th:only-of-type {\n",
              "        vertical-align: middle;\n",
              "    }\n",
              "\n",
              "    .dataframe tbody tr th {\n",
              "        vertical-align: top;\n",
              "    }\n",
              "\n",
              "    .dataframe thead th {\n",
              "        text-align: right;\n",
              "    }\n",
              "</style>\n",
              "<table border=\"1\" class=\"dataframe\">\n",
              "  <thead>\n",
              "    <tr style=\"text-align: right;\">\n",
              "      <th></th>\n",
              "      <th>Date</th>\n",
              "      <th>Open</th>\n",
              "      <th>High</th>\n",
              "      <th>Low</th>\n",
              "      <th>Close</th>\n",
              "      <th>Adj Close</th>\n",
              "      <th>Volume</th>\n",
              "    </tr>\n",
              "  </thead>\n",
              "  <tbody>\n",
              "    <tr>\n",
              "      <th>5452</th>\n",
              "      <td>2019-03-01</td>\n",
              "      <td>1655.130005</td>\n",
              "      <td>1674.26001</td>\n",
              "      <td>1651.0</td>\n",
              "      <td>1671.72998</td>\n",
              "      <td>1671.72998</td>\n",
              "      <td>4974900</td>\n",
              "    </tr>\n",
              "  </tbody>\n",
              "</table>\n",
              "</div>"
            ],
            "text/plain": [
              "            Date         Open        High     Low       Close   Adj Close  \\\n",
              "5452  2019-03-01  1655.130005  1674.26001  1651.0  1671.72998  1671.72998   \n",
              "\n",
              "       Volume  \n",
              "5452  4974900  "
            ]
          },
          "metadata": {
            "tags": []
          },
          "execution_count": 52
        }
      ]
    },
    {
      "metadata": {
        "id": "TEQ3AGIMoX5_",
        "colab_type": "text"
      },
      "cell_type": "markdown",
      "source": [
        ""
      ]
    },
    {
      "metadata": {
        "id": "Cf_jZlrgDV_5",
        "colab_type": "code",
        "colab": {}
      },
      "cell_type": "code",
      "source": [
        "dep_var = 'Close'\n",
        "cont_names = ['Open', 'High', 'Low', 'Adj Close', 'Volume']\n",
        "\n",
        "procs = [FillMissing, Normalize]\n"
      ],
      "execution_count": 0,
      "outputs": []
    },
    {
      "metadata": {
        "id": "BRRBHCaqD3Zq",
        "colab_type": "code",
        "colab": {}
      },
      "cell_type": "code",
      "source": [
        "test = TabularList.from_df(df.iloc[800:1000].copy(), path=path, cont_names=cont_names)\n"
      ],
      "execution_count": 0,
      "outputs": []
    },
    {
      "metadata": {
        "id": "JHPQ73eKEnnx",
        "colab_type": "code",
        "colab": {}
      },
      "cell_type": "code",
      "source": [
        "data = (TabularList.from_df(df, path=path, cont_names=cont_names, procs=procs)\n",
        "                           .split_by_idx(list(range(800,1000)))\n",
        "                           .label_from_df(cols=dep_var)\n",
        "                           .add_test(test)\n",
        "                           .databunch())"
      ],
      "execution_count": 0,
      "outputs": []
    },
    {
      "metadata": {
        "id": "juIdNnVPEvlx",
        "colab_type": "code",
        "outputId": "9ed77e4c-0955-4e1f-ae82-1c8175a3632c",
        "colab": {
          "base_uri": "https://localhost:8080/",
          "height": 142
        }
      },
      "cell_type": "code",
      "source": [
        "data.show_batch(rows=3)\n"
      ],
      "execution_count": 56,
      "outputs": [
        {
          "output_type": "display_data",
          "data": {
            "text/html": [
              "<table border=\"1\" class=\"dataframe\">\n",
              "  <thead>\n",
              "    <tr style=\"text-align: right;\">\n",
              "      <th>Open</th>\n",
              "      <th>High</th>\n",
              "      <th>Low</th>\n",
              "      <th>Adj Close</th>\n",
              "      <th>Volume</th>\n",
              "      <th>target</th>\n",
              "    </tr>\n",
              "  </thead>\n",
              "  <tbody>\n",
              "    <tr>\n",
              "      <td>-0.4885</td>\n",
              "      <td>-0.4868</td>\n",
              "      <td>-0.4888</td>\n",
              "      <td>-0.4851</td>\n",
              "      <td>-0.0656</td>\n",
              "      <td>74.53</td>\n",
              "    </tr>\n",
              "    <tr>\n",
              "      <td>-0.4236</td>\n",
              "      <td>-0.4247</td>\n",
              "      <td>-0.4416</td>\n",
              "      <td>-0.4316</td>\n",
              "      <td>1.5692</td>\n",
              "      <td>96.75</td>\n",
              "    </tr>\n",
              "    <tr>\n",
              "      <td>0.9668</td>\n",
              "      <td>0.9941</td>\n",
              "      <td>0.9870</td>\n",
              "      <td>1.0062</td>\n",
              "      <td>-0.2630</td>\n",
              "      <td>693.97</td>\n",
              "    </tr>\n",
              "  </tbody>\n",
              "</table>"
            ],
            "text/plain": [
              "<IPython.core.display.HTML object>"
            ]
          },
          "metadata": {
            "tags": []
          }
        }
      ]
    },
    {
      "metadata": {
        "id": "LzAJL1doGqC6",
        "colab_type": "code",
        "colab": {}
      },
      "cell_type": "code",
      "source": [
        ""
      ],
      "execution_count": 0,
      "outputs": []
    },
    {
      "metadata": {
        "id": "aON0bgrAIdHS",
        "colab_type": "text"
      },
      "cell_type": "markdown",
      "source": [
        "## Functions"
      ]
    },
    {
      "metadata": {
        "id": "BH3dPjOmIgLq",
        "colab_type": "code",
        "colab": {}
      },
      "cell_type": "code",
      "source": [
        "# Fixes the following error: Expected object of scalar type Long but got scalar type Float for argument #2 ‘other\n",
        "# https://forums.fast.ai/t/error-pytorch-expected-object-of-scalar-type-long-but-got-scalar-type-float-for-argument-2-other/33778\n",
        "def accuracy_long(input:Tensor, targs:Tensor)->Rank0Tensor:\n",
        "    \"Compute accuracy with `targs` when `input` is bs * n_classes.\"\n",
        "    n = targs.shape[0]\n",
        "    input = input.argmax(dim=-1).view(n,-1)\n",
        "    #targs = targs.view(n,-1)\n",
        "    targs = targs.view(-1).long()\n",
        "    return (input==targs).float().mean()"
      ],
      "execution_count": 0,
      "outputs": []
    },
    {
      "metadata": {
        "id": "_qgdIYM_TQ1F",
        "colab_type": "code",
        "colab": {}
      },
      "cell_type": "code",
      "source": [
        "def get_technical_indicators(dataset):\n",
        "    # Create Moving Averages\n",
        "    dataset['ma7'] = dataset[5].rolling(window=7).mean()\n",
        "    dataset['ma21'] = dataset[5].rolling(window=21).mean()\n",
        "    dataset['ma30'] = dataset[5].rolling(window=30).mean()\n",
        "    dataset['ma50'] = dataset[5].rolling(window=50).mean()\n",
        "    dataset['ma200'] = dataset[5].rolling(window=200).mean()\n",
        "    \n",
        "    # Create Exponential moving average\n",
        "    dataset['ema'] = dataset[5].ewm(com=0.5).mean()\n",
        "    \n",
        "    # Create MACD\n",
        "    dataset['26ema'] = pd.ewma(dataset[5], span=26)\n",
        "    dataset['12ema'] = pd.ewma(dataset[5], span=12)\n",
        "    dataset['MACD'] = (dataset['12ema']-dataset['26ema'])\n",
        "\n",
        "    # Create Bollinger Bands\n",
        "    dataset['20sd'] = pd.stats.moments.rolling_std(dataset[5],20)\n",
        "    dataset['upper_band'] = dataset['ma21'] + (dataset['20sd']*2)\n",
        "    dataset['lower_band'] = dataset['ma21'] - (dataset['20sd']*2)\n",
        "    \n",
        "    return dataset"
      ],
      "execution_count": 0,
      "outputs": []
    },
    {
      "metadata": {
        "id": "EsZkcXssG2Gq",
        "colab_type": "text"
      },
      "cell_type": "markdown",
      "source": [
        "## Train model on data"
      ]
    },
    {
      "metadata": {
        "id": "3uh7WUmsG4om",
        "colab_type": "code",
        "colab": {}
      },
      "cell_type": "code",
      "source": [
        "learn = tabular_learner(data, layers=[200,100], metrics=accuracy_long)\n"
      ],
      "execution_count": 0,
      "outputs": []
    },
    {
      "metadata": {
        "id": "9y27OWHIG5D1",
        "colab_type": "code",
        "outputId": "4c532df0-4048-462e-a63b-3b49e697c6d9",
        "colab": {
          "base_uri": "https://localhost:8080/",
          "height": 227
        }
      },
      "cell_type": "code",
      "source": [
        "epochs = 5\n",
        "lr = 1e-3\n",
        "learn.fit(epochs, lr)\n"
      ],
      "execution_count": 61,
      "outputs": [
        {
          "output_type": "display_data",
          "data": {
            "text/html": [
              "Total time: 00:04 <p><table border=\"1\" class=\"dataframe\">\n",
              "  <thead>\n",
              "    <tr style=\"text-align: left;\">\n",
              "      <th>epoch</th>\n",
              "      <th>train_loss</th>\n",
              "      <th>valid_loss</th>\n",
              "      <th>accuracy_long</th>\n",
              "      <th>time</th>\n",
              "    </tr>\n",
              "  </thead>\n",
              "  <tbody>\n",
              "    <tr>\n",
              "      <td>1</td>\n",
              "      <td>6481.901367</td>\n",
              "      <td>458.382904</td>\n",
              "      <td>0.000000</td>\n",
              "      <td>00:00</td>\n",
              "    </tr>\n",
              "    <tr>\n",
              "      <td>2</td>\n",
              "      <td>5907.617676</td>\n",
              "      <td>376.875153</td>\n",
              "      <td>0.000000</td>\n",
              "      <td>00:00</td>\n",
              "    </tr>\n",
              "    <tr>\n",
              "      <td>3</td>\n",
              "      <td>5765.332520</td>\n",
              "      <td>605.917480</td>\n",
              "      <td>0.000000</td>\n",
              "      <td>00:00</td>\n",
              "    </tr>\n",
              "    <tr>\n",
              "      <td>4</td>\n",
              "      <td>6647.208984</td>\n",
              "      <td>54.400162</td>\n",
              "      <td>0.000000</td>\n",
              "      <td>00:00</td>\n",
              "    </tr>\n",
              "    <tr>\n",
              "      <td>5</td>\n",
              "      <td>7220.656738</td>\n",
              "      <td>103.718636</td>\n",
              "      <td>0.000000</td>\n",
              "      <td>00:01</td>\n",
              "    </tr>\n",
              "  </tbody>\n",
              "</table>"
            ],
            "text/plain": [
              "<IPython.core.display.HTML object>"
            ]
          },
          "metadata": {
            "tags": []
          }
        }
      ]
    },
    {
      "metadata": {
        "id": "xZ7z9p3THJoM",
        "colab_type": "code",
        "colab": {}
      },
      "cell_type": "code",
      "source": [
        ""
      ],
      "execution_count": 0,
      "outputs": []
    }
  ]
}