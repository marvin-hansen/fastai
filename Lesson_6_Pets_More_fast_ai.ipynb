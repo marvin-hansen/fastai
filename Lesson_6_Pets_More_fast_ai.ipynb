{
  "nbformat": 4,
  "nbformat_minor": 0,
  "metadata": {
    "colab": {
      "name": "Lesson-6-Pets-More-fast.ai",
      "version": "0.3.2",
      "provenance": [],
      "collapsed_sections": [
        "RLvRy1G9mWdQ"
      ],
      "include_colab_link": true
    },
    "kernelspec": {
      "name": "python3",
      "display_name": "Python 3"
    },
    "accelerator": "GPU"
  },
  "cells": [
    {
      "cell_type": "markdown",
      "metadata": {
        "id": "view-in-github",
        "colab_type": "text"
      },
      "source": [
        "<a href=\"https://colab.research.google.com/github/marvin-hansen/fastai/blob/master/Lesson_6_Pets_More_fast_ai.ipynb\" target=\"_parent\"><img src=\"https://colab.research.google.com/assets/colab-badge.svg\" alt=\"Open In Colab\"/></a>"
      ]
    },
    {
      "metadata": {
        "id": "hyTJpkZTknaI",
        "colab_type": "text"
      },
      "cell_type": "markdown",
      "source": [
        "# Lesson 6: Regularization; Convolutions; Data ethics\n",
        "\n",
        "https://course.fast.ai/videos/?lesson=6\n",
        "\n",
        "https://github.com/hiromis/notes/blob/master/Lesson6.md\n",
        "\n",
        "\n",
        "Today we discuss some powerful techniques for improving training and avoiding over-fitting:\n",
        "\n",
        "* Dropout: remove activations at random during training in order to regularize the model\n",
        "* Data augmentation: modify model inputs during training in order to effectively increase data size\n",
        "* Batch normalization: adjust the parameterization of a model in order to make the loss surface smoother.\n",
        "\n",
        "Next up, we'll learn all about convolutions, which can be thought of as a variant of matrix multiplication with tied weights, and are the operation at the heart of modern computer vision models (and, increasingly, other types of models too).\n",
        "\n",
        "We'll use this knowledge to create a class activated map, which is a heat-map that shows which parts of an image were most important in making a prediction.\n",
        "\n",
        "Finally, we'll cover a topic that many students have told us is the most interesting and surprising part of the course: data ethics. We'll learn about some of the ways in which models can go wrong, with a particular focus on feedback loops, why they cause problems, and how to avoid them. We'll also look at ways in which bias in data can lead to biased algorithms, and discuss questions that data scientists can and should be asking to help ensure that their work doesn't lead to unexpected negative outcomes.\n",
        "\n",
        "[Notebook](https://nbviewer.jupyter.org/github/fastai/course-v3/blob/master/nbs/dl1/lesson6-pets-more.ipynb)"
      ]
    },
    {
      "metadata": {
        "id": "C9SlWmJqdqYI",
        "colab_type": "text"
      },
      "cell_type": "markdown",
      "source": [
        "# Notes\n",
        "\n",
        "RNN tends to performs well perhaps on acadmic data without complex entity relationships.\n",
        "\n",
        "Recognizing cyclic or seasonal data requires \"date\" to be in category formal. For equity trading, however, you may need to do more than just that. \n",
        "\n",
        "Sales is the depnding variable with the rest being features required to predict sales.\n",
        "\n",
        "Procs: \n",
        "* Runs once on the train set and all resulting meta-date is shared with test & validation \n",
        "\n",
        "data.export \n",
        "* saves the entire databunch \n",
        "\n",
        "Need to seperate categorial and continous data.\n",
        "\n",
        "categorial\n",
        "* May exposes implicit values through embedding matrix\n",
        "* If in doubt, try it out\n",
        "\n",
        "LabelClass: FloatList \n",
        "* Must be Float for regression \n",
        "* set to FloatList to tunr the learner into a regressor  \n",
        "\n",
        "\n",
        "log = true \n",
        "* logarithm of y \n",
        "* when RMSPE error function \n",
        "* when you take the log of RSME, it becomes the RMSPE \n",
        "* long tail distributions require percentage change differences, this RMSPE needs to be measured \n",
        "* Set log range of y a bit wider \n",
        "\n",
        "Model architecture \n",
        "* Most basic NN FCN\n",
        "* interemediate weighmtraix (1000X500) - 500k a lot for just a hundred few features \n",
        "* Use regularization, weight decay, and dropout  to avoid overfitting\n",
        "* Weight decay is already applied automocatlly by the fast.ai lib\n",
        "\n",
        "Dropout: \n",
        "* kind of regularization \n",
        "* Randoomly drops activations  from the net\n",
        "* Removes connection between nodes\n",
        "* For each batch, we through away ~5% of activations and inputs \n",
        "* On the next batch, the previous drops are restored, and ot hers are dropped randoomly.\n",
        "* No one activation can memorize the input\n",
        "* Therefore, instead of memorizing one specific input (image), the net must learn to recognize features\n",
        "* In practice, it works very well.\n",
        "* Requires a bit of tweaking of the ps (p value of droput values) to figure out which one works best\n",
        "\n",
        "Embedding dropout \n",
        "* Special dropout for embedding \n",
        "* Embedding is  a matrix multiply with aone-hot encoded\n",
        "* Thus, randoom drops can be dine \n",
        "* Experiments showed that embeeding dropout increased acc. with low erreror variance\n",
        "\n",
        "\n",
        "\n",
        "Data Augmentation:\n",
        "* Look at the range of the actual data and chose augmentation close to the real data\n",
        "* Warping seems to work well \n",
        "* Biggest opportunity is to apply data augmentation in other domains \n",
        "* Can reduce data requirements by 5 to 10 X "
      ]
    },
    {
      "metadata": {
        "id": "0VHm4TYVtjyX",
        "colab_type": "text"
      },
      "cell_type": "markdown",
      "source": [
        "## Install "
      ]
    },
    {
      "metadata": {
        "id": "4Vkx6bTAtfDc",
        "colab_type": "code",
        "colab": {}
      },
      "cell_type": "code",
      "source": [
        "!pip install imgaug==0.2.7\n",
        "\n",
        "!pip install folium==0.2.1\n",
        "\n",
        "!pip install --upgrade pandas\n",
        "\n",
        "!pip install --upgrade numpy\n",
        "\n",
        "!pip install isoweek\n",
        "\n",
        "#!pip install --upgrade fastai\n",
        "\n",
        "!curl -s https://course.fast.ai/setup/colab | bash"
      ],
      "execution_count": 0,
      "outputs": []
    },
    {
      "metadata": {
        "id": "QMfsFdovmreG",
        "colab_type": "text"
      },
      "cell_type": "markdown",
      "source": [
        "## Constants & global flags"
      ]
    },
    {
      "metadata": {
        "id": "ZIo-eDWrkYBc",
        "colab_type": "code",
        "colab": {}
      },
      "cell_type": "code",
      "source": [
        "%reload_ext autoreload\n",
        "%autoreload 2\n",
        "%matplotlib inline"
      ],
      "execution_count": 0,
      "outputs": []
    },
    {
      "metadata": {
        "id": "2_nJKI6nkqEO",
        "colab_type": "code",
        "colab": {}
      },
      "cell_type": "code",
      "source": [
        "#batch size \n",
        "\n",
        "bs = 32\n",
        "# bs = 32 \n",
        "# bs = 16   # uncomment this line if you run out of memory even after clicking Kernel->Restart"
      ],
      "execution_count": 0,
      "outputs": []
    },
    {
      "metadata": {
        "id": "a9ZyTvLnmNB9",
        "colab_type": "text"
      },
      "cell_type": "markdown",
      "source": [
        "## Import Fast.ai & PyTorch\n"
      ]
    },
    {
      "metadata": {
        "id": "YVfM_vuVl61s",
        "colab_type": "code",
        "outputId": "e5848664-11fb-4725-eae6-772f21b20ae5",
        "colab": {
          "base_uri": "https://localhost:8080/",
          "height": 34
        }
      },
      "cell_type": "code",
      "source": [
        "import fastai\n",
        "from fastai import *\n",
        "from fastai.basics import *\n",
        "from fastai.vision import *\n",
        "from fastai.metrics import error_rate\n",
        "from fastai.collab import *\n",
        "from fastai.tabular import *\n",
        "\n",
        "import matplotlib.pyplot as plt\n",
        "from PIL import Image\n",
        "\n",
        "print(\"FastAI Version: \" + str(fastai.__version__))"
      ],
      "execution_count": 4,
      "outputs": [
        {
          "output_type": "stream",
          "text": [
            "FastAI Version: 1.0.51\n"
          ],
          "name": "stdout"
        }
      ]
    },
    {
      "metadata": {
        "id": "Vf_31oMZl7gI",
        "colab_type": "code",
        "outputId": "a5139a51-6dc1-4c28-9c51-41e50e35d4a9",
        "colab": {
          "base_uri": "https://localhost:8080/",
          "height": 34
        }
      },
      "cell_type": "code",
      "source": [
        "import torch\n",
        "\n",
        "print(\"PyTorch Version: \" + str(torch.__version__))"
      ],
      "execution_count": 5,
      "outputs": [
        {
          "output_type": "stream",
          "text": [
            "PyTorch Version: 1.0.1.post2\n"
          ],
          "name": "stdout"
        }
      ]
    },
    {
      "metadata": {
        "id": "RLvRy1G9mWdQ",
        "colab_type": "text"
      },
      "cell_type": "markdown",
      "source": [
        "## Check GPU *acceleration*"
      ]
    },
    {
      "metadata": {
        "id": "Z5S3z9YkmFqu",
        "colab_type": "code",
        "outputId": "6d5c77bd-7328-4098-d73a-32e4b5c32c36",
        "colab": {
          "base_uri": "https://localhost:8080/",
          "height": 153
        }
      },
      "cell_type": "code",
      "source": [
        "torch.cuda.current_device()\n",
        "print(\"Cuda available: \" + str(torch.cuda.is_available()))\n",
        "print(\"Cuda enabled:\" + str(torch.backends.cudnn.enabled))\n",
        "#https://stackoverflow.com/questions/48152674/how-to-check-if-pytorch-is-using-the-gpu\n",
        "# setting device on GPU if available, else CPU\n",
        "device = torch.device('cuda' if torch.cuda.is_available() else 'cpu')\n",
        "print('Using device:', device)\n",
        "print()\n",
        "#Additional Info when using cuda\n",
        "if device.type == 'cuda':\n",
        "    print(\"GPU used: \" + torch.cuda.get_device_name(0))\n",
        "    print('Memory Usage:')\n",
        "    print('Allocated:', round(torch.cuda.memory_allocated(0)/1024**3,1), 'GB')\n",
        "    print('Cached:   ', round(torch.cuda.memory_cached(0)/1024**3,1), 'GB')"
      ],
      "execution_count": 6,
      "outputs": [
        {
          "output_type": "stream",
          "text": [
            "Cuda available: True\n",
            "Cuda enabled:True\n",
            "Using device: cuda\n",
            "\n",
            "GPU used: Tesla K80\n",
            "Memory Usage:\n",
            "Allocated: 0.0 GB\n",
            "Cached:    0.0 GB\n"
          ],
          "name": "stdout"
        }
      ]
    },
    {
      "metadata": {
        "id": "ONYR0DTSFAoh",
        "colab_type": "text"
      },
      "cell_type": "markdown",
      "source": [
        "# Data Augmentation"
      ]
    },
    {
      "metadata": {
        "id": "SpBRLMjjFRT3",
        "colab_type": "code",
        "colab": {}
      },
      "cell_type": "code",
      "source": [
        "path = untar_data(URLs.PETS)/'images'\n"
      ],
      "execution_count": 0,
      "outputs": []
    },
    {
      "metadata": {
        "id": "nPWRyiqQFSG5",
        "colab_type": "code",
        "colab": {}
      },
      "cell_type": "code",
      "source": [
        "tfms = get_transforms(max_rotate=20, \n",
        "                      max_zoom=1.3, \n",
        "                      max_lighting=0.4, \n",
        "                      max_warp=0.4,\n",
        "                      p_affine=1., \n",
        "                      p_lighting=1.)"
      ],
      "execution_count": 0,
      "outputs": []
    },
    {
      "metadata": {
        "id": "QRGxoz_HFacv",
        "colab_type": "code",
        "colab": {}
      },
      "cell_type": "code",
      "source": [
        "src = ImageList.from_folder(path).split_by_rand_pct(0.2, seed=2)\n"
      ],
      "execution_count": 0,
      "outputs": []
    },
    {
      "metadata": {
        "id": "9Q-b5mYaFdaX",
        "colab_type": "code",
        "colab": {}
      },
      "cell_type": "code",
      "source": [
        "def get_data(size, bs, padding_mode='reflection'):\n",
        "    return (src.label_from_re(r'([^/]+)_\\d+.jpg$')\n",
        "           .transform(tfms, size=size, padding_mode=padding_mode)\n",
        "           .databunch(bs=bs).normalize(imagenet_stats))"
      ],
      "execution_count": 0,
      "outputs": []
    },
    {
      "metadata": {
        "id": "LAutEOEkFf4q",
        "colab_type": "code",
        "colab": {}
      },
      "cell_type": "code",
      "source": [
        "data = get_data(224, bs, 'zeros')\n"
      ],
      "execution_count": 0,
      "outputs": []
    },
    {
      "metadata": {
        "id": "9UyEag0OFh5_",
        "colab_type": "code",
        "colab": {}
      },
      "cell_type": "code",
      "source": [
        "def _plot(i,j,ax):\n",
        "    x,y = data.train_ds[3]\n",
        "    x.show(ax, y=y)\n",
        "\n",
        "plot_multi(_plot, 3, 3, figsize=(8,8))"
      ],
      "execution_count": 0,
      "outputs": []
    },
    {
      "metadata": {
        "id": "5Q42omWdFk-f",
        "colab_type": "code",
        "colab": {}
      },
      "cell_type": "code",
      "source": [
        "data = get_data(224,bs)\n"
      ],
      "execution_count": 0,
      "outputs": []
    },
    {
      "metadata": {
        "id": "s8pXOylpFpBg",
        "colab_type": "code",
        "colab": {}
      },
      "cell_type": "code",
      "source": [
        "plot_multi(_plot, 3, 3, figsize=(8,8))"
      ],
      "execution_count": 0,
      "outputs": []
    },
    {
      "metadata": {
        "id": "MgHKZud5FtoK",
        "colab_type": "text"
      },
      "cell_type": "markdown",
      "source": [
        "# Train Model"
      ]
    },
    {
      "metadata": {
        "id": "mMacH6UfFp84",
        "colab_type": "code",
        "colab": {}
      },
      "cell_type": "code",
      "source": [
        "gc.collect()\n",
        "#learn = cnn_learner(data, models.resnet34, metrics=error_rate, bn_final=True)\n",
        "# Try different pre-trained model \n",
        "# ResNet-152\thas the lowest Top-1% error from all torch vision models \n",
        "# https://pytorch.org/docs/stable/torchvision/models.html\n",
        "learn = cnn_learner(data, models.resnet50, metrics=error_rate, bn_final=True)"
      ],
      "execution_count": 0,
      "outputs": []
    },
    {
      "metadata": {
        "id": "KusUqtwQKtzL",
        "colab_type": "code",
        "colab": {}
      },
      "cell_type": "code",
      "source": [
        "bs=64"
      ],
      "execution_count": 0,
      "outputs": []
    },
    {
      "metadata": {
        "id": "KuvF4bvJPHXB",
        "colab_type": "code",
        "colab": {
          "base_uri": "https://localhost:8080/",
          "height": 34
        },
        "outputId": "4e5a3ffb-1f38-40ac-cc65-1e6a85a8a02c"
      },
      "cell_type": "code",
      "source": [
        "clear_cuda_cache(learn)"
      ],
      "execution_count": 29,
      "outputs": [
        {
          "output_type": "stream",
          "text": [
            "this Learner object self-destroyed - it still exists, but no longer usable\n"
          ],
          "name": "stdout"
        }
      ]
    },
    {
      "metadata": {
        "id": "qSUpDnSEJAJM",
        "colab_type": "text"
      },
      "cell_type": "markdown",
      "source": [
        "## Model comparision \n",
        "\n",
        "Error-rate after 3 epochs: \n",
        "* resnet34: 0.066982\n",
        "* resnet50: 0.056834\n",
        "* resnet152: 0.055480"
      ]
    },
    {
      "metadata": {
        "id": "SyvhXSu7FvgJ",
        "colab_type": "code",
        "colab": {
          "base_uri": "https://localhost:8080/",
          "height": 165
        },
        "outputId": "ed2a3dd8-f64e-4730-f61c-6b909c817136"
      },
      "cell_type": "code",
      "source": [
        "learn.fit_one_cycle(3, slice(1e-2), pct_start=0.8)\n"
      ],
      "execution_count": 32,
      "outputs": [
        {
          "output_type": "display_data",
          "data": {
            "text/html": [
              "Total time: 07:20 <p><table border=\"1\" class=\"dataframe\">\n",
              "  <thead>\n",
              "    <tr style=\"text-align: left;\">\n",
              "      <th>epoch</th>\n",
              "      <th>train_loss</th>\n",
              "      <th>valid_loss</th>\n",
              "      <th>error_rate</th>\n",
              "      <th>time</th>\n",
              "    </tr>\n",
              "  </thead>\n",
              "  <tbody>\n",
              "    <tr>\n",
              "      <td>0</td>\n",
              "      <td>2.008240</td>\n",
              "      <td>0.953825</td>\n",
              "      <td>0.154939</td>\n",
              "      <td>02:27</td>\n",
              "    </tr>\n",
              "    <tr>\n",
              "      <td>1</td>\n",
              "      <td>1.128871</td>\n",
              "      <td>0.331917</td>\n",
              "      <td>0.093369</td>\n",
              "      <td>02:27</td>\n",
              "    </tr>\n",
              "    <tr>\n",
              "      <td>2</td>\n",
              "      <td>0.805341</td>\n",
              "      <td>0.238442</td>\n",
              "      <td>0.064276</td>\n",
              "      <td>02:25</td>\n",
              "    </tr>\n",
              "  </tbody>\n",
              "</table>"
            ],
            "text/plain": [
              "<IPython.core.display.HTML object>"
            ]
          },
          "metadata": {
            "tags": []
          }
        }
      ]
    },
    {
      "metadata": {
        "id": "D9lWsPh0Fz-Z",
        "colab_type": "code",
        "colab": {
          "base_uri": "https://localhost:8080/",
          "height": 134
        },
        "outputId": "7c77d495-3dd4-4866-8498-b14bad02fb43"
      },
      "cell_type": "code",
      "source": [
        "learn.unfreeze() # update entire net \n",
        "learn.fit_one_cycle(2, max_lr=slice(1e-6,1e-3), pct_start=0.8)"
      ],
      "execution_count": 33,
      "outputs": [
        {
          "output_type": "display_data",
          "data": {
            "text/html": [
              "Total time: 05:16 <p><table border=\"1\" class=\"dataframe\">\n",
              "  <thead>\n",
              "    <tr style=\"text-align: left;\">\n",
              "      <th>epoch</th>\n",
              "      <th>train_loss</th>\n",
              "      <th>valid_loss</th>\n",
              "      <th>error_rate</th>\n",
              "      <th>time</th>\n",
              "    </tr>\n",
              "  </thead>\n",
              "  <tbody>\n",
              "    <tr>\n",
              "      <td>0</td>\n",
              "      <td>0.664170</td>\n",
              "      <td>0.243673</td>\n",
              "      <td>0.062246</td>\n",
              "      <td>02:38</td>\n",
              "    </tr>\n",
              "    <tr>\n",
              "      <td>1</td>\n",
              "      <td>0.667606</td>\n",
              "      <td>0.252438</td>\n",
              "      <td>0.062923</td>\n",
              "      <td>02:37</td>\n",
              "    </tr>\n",
              "  </tbody>\n",
              "</table>"
            ],
            "text/plain": [
              "<IPython.core.display.HTML object>"
            ]
          },
          "metadata": {
            "tags": []
          }
        }
      ]
    },
    {
      "metadata": {
        "id": "AUxP_qIqNqZh",
        "colab_type": "code",
        "colab": {}
      },
      "cell_type": "code",
      "source": [
        "#incresse inage size \n",
        "data = get_data(352,bs)\n",
        "learn.data = data"
      ],
      "execution_count": 0,
      "outputs": []
    },
    {
      "metadata": {
        "id": "7IhwM12bNtBg",
        "colab_type": "code",
        "colab": {}
      },
      "cell_type": "code",
      "source": [
        "# fit net to  higher res images\n",
        "learn.fit_one_cycle(2, max_lr=slice(1e-6,1e-4))\n"
      ],
      "execution_count": 0,
      "outputs": []
    },
    {
      "metadata": {
        "id": "LfIu_XRnN0kZ",
        "colab_type": "code",
        "colab": {}
      },
      "cell_type": "code",
      "source": [
        "learn.save('352')\n"
      ],
      "execution_count": 0,
      "outputs": []
    },
    {
      "metadata": {
        "id": "7Xl24qGSQosR",
        "colab_type": "code",
        "colab": {}
      },
      "cell_type": "code",
      "source": [
        "learn.recorder.plot_losses()\n"
      ],
      "execution_count": 0,
      "outputs": []
    },
    {
      "metadata": {
        "id": "VCiCqeF5M1L9",
        "colab_type": "code",
        "colab": {}
      },
      "cell_type": "code",
      "source": [
        "def clear_cuda_cache(learn):\n",
        "  # Clear Cuda cache, if running OOM\n",
        "    learn.destroy()\n",
        "    torch.cuda.empty_cache()"
      ],
      "execution_count": 0,
      "outputs": []
    },
    {
      "metadata": {
        "id": "zwmv2UBDO-jX",
        "colab_type": "code",
        "colab": {}
      },
      "cell_type": "code",
      "source": [
        ""
      ],
      "execution_count": 0,
      "outputs": []
    }
  ]
}